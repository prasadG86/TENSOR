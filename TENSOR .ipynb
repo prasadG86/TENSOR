{
 "cells": [
  {
   "cell_type": "markdown",
   "id": "6abc7574",
   "metadata": {},
   "source": [
    "# ZERO DIMENSION TENSOR"
   ]
  },
  {
   "cell_type": "code",
   "execution_count": 4,
   "id": "2d914e2d",
   "metadata": {},
   "outputs": [
    {
     "name": "stdout",
     "output_type": "stream",
     "text": [
      "Array: 100\n",
      "Dimension: 0\n"
     ]
    }
   ],
   "source": [
    "import numpy as np\n",
    "x=np.array(100)\n",
    "print(\"Array:\",x)\n",
    "print(\"Dimension:\",x.ndim)"
   ]
  },
  {
   "cell_type": "markdown",
   "id": "f362b0d6",
   "metadata": {},
   "source": [
    "# ONE DIMENSION TENSOR"
   ]
  },
  {
   "cell_type": "code",
   "execution_count": 5,
   "id": "04beb691",
   "metadata": {},
   "outputs": [
    {
     "name": "stdout",
     "output_type": "stream",
     "text": [
      "Array: [1 2 3 4 5 6]\n",
      "Dimension: 1\n"
     ]
    }
   ],
   "source": [
    "import numpy as np\n",
    "x=np.array([1,2,3,4,5,6])\n",
    "print(\"Array:\",x)\n",
    "print(\"Dimension:\",x.ndim)"
   ]
  },
  {
   "cell_type": "markdown",
   "id": "8a93d887",
   "metadata": {},
   "source": [
    "# TWO DIMENSION TENSOR"
   ]
  },
  {
   "cell_type": "code",
   "execution_count": 7,
   "id": "3c48fb67",
   "metadata": {},
   "outputs": [
    {
     "name": "stdout",
     "output_type": "stream",
     "text": [
      "Array: [[ 1  5  7 11 12]\n",
      " [ 2  4  8 10 13]]\n",
      "Dimension: 2\n"
     ]
    }
   ],
   "source": [
    "import numpy as np\n",
    "x=np.array([\n",
    "[1,5,7,11,12],[2,4,8,10,13]])\n",
    "print(\"Array:\",x)\n",
    "print(\"Dimension:\",x.ndim)"
   ]
  },
  {
   "cell_type": "code",
   "execution_count": null,
   "id": "fbaa05e6",
   "metadata": {},
   "outputs": [],
   "source": []
  }
 ],
 "metadata": {
  "kernelspec": {
   "display_name": "Python 3 (ipykernel)",
   "language": "python",
   "name": "python3"
  },
  "language_info": {
   "codemirror_mode": {
    "name": "ipython",
    "version": 3
   },
   "file_extension": ".py",
   "mimetype": "text/x-python",
   "name": "python",
   "nbconvert_exporter": "python",
   "pygments_lexer": "ipython3",
   "version": "3.9.13"
  }
 },
 "nbformat": 4,
 "nbformat_minor": 5
}
